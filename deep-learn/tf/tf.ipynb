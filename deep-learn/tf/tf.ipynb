{
  "nbformat": 4,
  "nbformat_minor": 0,
  "metadata": {
    "colab": {
      "provenance": [],
      "gpuType": "T4",
      "include_colab_link": true
    },
    "kernelspec": {
      "name": "python3",
      "display_name": "Python 3"
    },
    "language_info": {
      "name": "python"
    },
    "accelerator": "GPU"
  },
  "cells": [
    {
      "cell_type": "markdown",
      "metadata": {
        "id": "view-in-github",
        "colab_type": "text"
      },
      "source": [
        "<a href=\"https://colab.research.google.com/github/gustavoSutil/materia-IA/blob/main/deep-learn/tf/tf.ipynb\" target=\"_parent\"><img src=\"https://colab.research.google.com/assets/colab-badge.svg\" alt=\"Open In Colab\"/></a>"
      ]
    },
    {
      "cell_type": "markdown",
      "source": [
        "**Estudante/Matrícula**: Gustavo Guilherme Sutil Alberton/2111100025"
      ],
      "metadata": {
        "id": "7D1BOD5PlK2n"
      }
    },
    {
      "cell_type": "markdown",
      "source": [
        "# Deep Learn in German Credit Numeric dataset\n",
        "https://www.tensorflow.org/datasets/catalog/german_credit_numeric?hl=pt-br\n",
        "https://archive.ics.uci.edu/dataset/144/statlog+german+credit+data"
      ],
      "metadata": {
        "id": "EqiF9peRa6Ma"
      }
    },
    {
      "cell_type": "markdown",
      "source": [
        "Dependências"
      ],
      "metadata": {
        "id": "6sBRow4ib9T6"
      }
    },
    {
      "cell_type": "code",
      "source": [
        "import scikit from"
      ],
      "metadata": {
        "id": "SuHKwq6PJ8rX"
      },
      "execution_count": null,
      "outputs": []
    }
  ]
}