{
  "nbformat": 4,
  "nbformat_minor": 0,
  "metadata": {
    "colab": {
      "provenance": [],
      "gpuType": "T4",
      "include_colab_link": true
    },
    "kernelspec": {
      "name": "python3",
      "display_name": "Python 3"
    },
    "language_info": {
      "name": "python"
    },
    "accelerator": "GPU"
  },
  "cells": [
    {
      "cell_type": "markdown",
      "metadata": {
        "id": "view-in-github",
        "colab_type": "text"
      },
      "source": [
        "<a href=\"https://colab.research.google.com/github/gustavoSutil/materia-IA/blob/main/deep-learn/tf/tf.ipynb\" target=\"_parent\"><img src=\"https://colab.research.google.com/assets/colab-badge.svg\" alt=\"Open In Colab\"/></a>"
      ]
    },
    {
      "cell_type": "markdown",
      "source": [
        "**Estudante/Matrícula**: Gustavo Guilherme Sutil Alberton/2111100025"
      ],
      "metadata": {
        "id": "7D1BOD5PlK2n"
      }
    },
    {
      "cell_type": "markdown",
      "source": [
        "# Deep Learn in German Credit Numeric dataset\n",
        "https://www.tensorflow.org/datasets/catalog/german_credit_numeric?hl=pt-br\n",
        "https://archive.ics.uci.edu/dataset/144/statlog+german+credit+data"
      ],
      "metadata": {
        "id": "EqiF9peRa6Ma"
      }
    },
    {
      "cell_type": "markdown",
      "source": [
        "Dependências"
      ],
      "metadata": {
        "id": "6sBRow4ib9T6"
      }
    },
    {
      "cell_type": "code",
      "source": [
        "import tensorflow as tf\n",
        "from tensorflow.keras import layers, models\n",
        "\n",
        "# Carregando o conjunto de dados\n",
        "(x_train, y_train), (x_test, y_test) = tf.keras.datasets.german_credit_numeric.load_data()\n",
        "\n",
        "# Normalizando os dados (opcional, mas geralmente uma boa prática)\n",
        "x_train = x_train / 255.0\n",
        "x_test = x_test / 255.0\n",
        "\n",
        "# Construindo o modelo linear\n",
        "model = models.Sequential()\n",
        "model.add(layers.Dense(1, activation='sigmoid', input_shape=(x_train.shape[1],)))\n",
        "\n",
        "# Compilando o modelo\n",
        "model.compile(optimizer='adam', loss='binary_crossentropy', metrics=['accuracy'])\n",
        "\n",
        "# Treinando o modelo\n",
        "model.fit(x_train, y_train, epochs=10, batch_size=32, validation_data=(x_test, y_test))\n",
        "\n",
        "# Avaliando o modelo\n",
        "accuracy = model.evaluate(x_test, y_test)[1]\n",
        "print(f'Acurácia do modelo linear: {accuracy}')\n"
      ],
      "metadata": {
        "id": "SuHKwq6PJ8rX",
        "outputId": "8ac38415-7e68-4226-fc18-63032486d339",
        "colab": {
          "base_uri": "https://localhost:8080/",
          "height": 246
        }
      },
      "execution_count": 3,
      "outputs": [
        {
          "output_type": "error",
          "ename": "AttributeError",
          "evalue": "ignored",
          "traceback": [
            "\u001b[0;31m---------------------------------------------------------------------------\u001b[0m",
            "\u001b[0;31mAttributeError\u001b[0m                            Traceback (most recent call last)",
            "\u001b[0;32m<ipython-input-3-193e6582d162>\u001b[0m in \u001b[0;36m<cell line: 5>\u001b[0;34m()\u001b[0m\n\u001b[1;32m      3\u001b[0m \u001b[0;34m\u001b[0m\u001b[0m\n\u001b[1;32m      4\u001b[0m \u001b[0;31m# Carregando o conjunto de dados\u001b[0m\u001b[0;34m\u001b[0m\u001b[0;34m\u001b[0m\u001b[0m\n\u001b[0;32m----> 5\u001b[0;31m \u001b[0;34m(\u001b[0m\u001b[0mx_train\u001b[0m\u001b[0;34m,\u001b[0m \u001b[0my_train\u001b[0m\u001b[0;34m)\u001b[0m\u001b[0;34m,\u001b[0m \u001b[0;34m(\u001b[0m\u001b[0mx_test\u001b[0m\u001b[0;34m,\u001b[0m \u001b[0my_test\u001b[0m\u001b[0;34m)\u001b[0m \u001b[0;34m=\u001b[0m \u001b[0mtf\u001b[0m\u001b[0;34m.\u001b[0m\u001b[0mkeras\u001b[0m\u001b[0;34m.\u001b[0m\u001b[0mdatasets\u001b[0m\u001b[0;34m.\u001b[0m\u001b[0mgerman_credit_numeric\u001b[0m\u001b[0;34m.\u001b[0m\u001b[0mload_data\u001b[0m\u001b[0;34m(\u001b[0m\u001b[0;34m)\u001b[0m\u001b[0;34m\u001b[0m\u001b[0;34m\u001b[0m\u001b[0m\n\u001b[0m\u001b[1;32m      6\u001b[0m \u001b[0;34m\u001b[0m\u001b[0m\n\u001b[1;32m      7\u001b[0m \u001b[0;31m# Normalizando os dados (opcional, mas geralmente uma boa prática)\u001b[0m\u001b[0;34m\u001b[0m\u001b[0;34m\u001b[0m\u001b[0m\n",
            "\u001b[0;31mAttributeError\u001b[0m: module 'keras.api._v2.keras.datasets' has no attribute 'german_credit_numeric'"
          ]
        }
      ]
    }
  ]
}